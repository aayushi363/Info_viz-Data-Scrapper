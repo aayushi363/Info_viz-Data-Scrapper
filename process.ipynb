{
 "cells": [
  {
   "cell_type": "code",
   "execution_count": 1,
   "metadata": {},
   "outputs": [],
   "source": [
    "import pandas as pd\n",
    "import numpy as np"
   ]
  },
  {
   "cell_type": "code",
   "execution_count": 2,
   "metadata": {},
   "outputs": [],
   "source": [
    "data = pd.read_csv('merged_google_processed.csv')"
   ]
  },
  {
   "cell_type": "code",
   "execution_count": 6,
   "metadata": {},
   "outputs": [
    {
     "name": "stdout",
     "output_type": "stream",
     "text": [
      "2216\n"
     ]
    }
   ],
   "source": [
    "all_keywords = []\n",
    "for k in data['Keywords'].unique():\n",
    "    all_keywords.extend(k.split(','))\n",
    "print(len(all_keywords))"
   ]
  },
  {
   "cell_type": "code",
   "execution_count": 8,
   "metadata": {},
   "outputs": [
    {
     "name": "stdout",
     "output_type": "stream",
     "text": [
      "4061\n"
     ]
    }
   ],
   "source": [
    "all_keyword_terms = []\n",
    "for k in all_keywords:\n",
    "    k = k.strip()\n",
    "    all_keyword_terms.extend(k.split(' '))\n",
    "print(len(all_keyword_terms))"
   ]
  },
  {
   "cell_type": "code",
   "execution_count": 13,
   "metadata": {},
   "outputs": [
    {
     "name": "stdout",
     "output_type": "stream",
     "text": [
      "1508\n"
     ]
    }
   ],
   "source": [
    "# get the unique terms in all_keyword_terms, and the number of their occurrences\n",
    "unique_terms = np.unique(all_keyword_terms)\n",
    "term_counts = np.zeros(len(unique_terms))\n",
    "for i, term in enumerate(unique_terms):\n",
    "    term_counts[i] = all_keyword_terms.count(term)\n",
    "print(len(unique_terms))\n",
    "# order unique terms by their counts\n",
    "sorted_terms = unique_terms[np.argsort(-term_counts)]\n",
    "sorted_counts = term_counts[np.argsort(-term_counts)]"
   ]
  },
  {
   "cell_type": "code",
   "execution_count": 19,
   "metadata": {},
   "outputs": [
    {
     "name": "stdout",
     "output_type": "stream",
     "text": [
      "56\n"
     ]
    }
   ],
   "source": [
    "category_num = len(sorted_counts[sorted_counts > 10])\n",
    "print(category_num)"
   ]
  },
  {
   "cell_type": "code",
   "execution_count": 21,
   "metadata": {},
   "outputs": [],
   "source": [
    "categories = sorted_terms[:category_num]"
   ]
  },
  {
   "cell_type": "code",
   "execution_count": 24,
   "metadata": {},
   "outputs": [],
   "source": [
    "# add a new column 'Category' to the data, fill it with all the categories that appear in the 'Keywords' column\n",
    "data['Category'] = ''\n",
    "for i, row in data.iterrows():\n",
    "    all_keywords_row = row['Keywords'].split(',')\n",
    "    all_keyword_terms_row = set()\n",
    "    for k in all_keywords_row:\n",
    "        k = k.strip()\n",
    "        all_keyword_terms_row.update(k.split(' '))\n",
    "    category_value = ''\n",
    "    for category in categories:\n",
    "        if category in all_keyword_terms_row:\n",
    "            category_value += category + ','\n",
    "    data.at[i, 'Category'] = category_value"
   ]
  },
  {
   "cell_type": "code",
   "execution_count": 26,
   "metadata": {},
   "outputs": [],
   "source": [
    "data.to_csv('merged_google_processed_with_category.csv', index=False)"
   ]
  }
 ],
 "metadata": {
  "kernelspec": {
   "display_name": "kernelnn",
   "language": "python",
   "name": "python3"
  },
  "language_info": {
   "codemirror_mode": {
    "name": "ipython",
    "version": 3
   },
   "file_extension": ".py",
   "mimetype": "text/x-python",
   "name": "python",
   "nbconvert_exporter": "python",
   "pygments_lexer": "ipython3",
   "version": "3.11.7"
  }
 },
 "nbformat": 4,
 "nbformat_minor": 2
}
